{
 "cells": [
  {
   "cell_type": "code",
   "execution_count": null,
   "id": "248aaff7-3af6-4533-9a06-032cfa4fb0b9",
   "metadata": {},
   "outputs": [],
   "source": [
    "import pandas as pd\n",
    "\n",
    "trending_videos = pd.read_csv('trending_videos.csv')\n",
    "print(trending_videos.head())\n"
   ]
  },
  {
   "cell_type": "code",
   "execution_count": null,
   "id": "1a4ce3d9-6e36-4460-b443-a92a83a46804",
   "metadata": {},
   "outputs": [],
   "source": [
    "# check for missing values\n",
    "missing_values = trending_videos.isnull().sum()\n",
    "\n",
    "# display data types\n",
    "data_types = trending_videos.dtypes\n",
    "\n",
    "missing_values, data_types"
   ]
  },
  {
   "cell_type": "code",
   "execution_count": null,
   "id": "2ab56ffe-7e55-4e74-8345-adb77e6553d9",
   "metadata": {},
   "outputs": [],
   "source": [
    "#fill missing descriptions with \"No description\"\n",
    "trending_videos['description'].fillna('No description', inplace=True)\n",
    "\n",
    "# convert `published_at` to datetime\n",
    "trending_videos['published_at'] = pd.to_datetime(trending_videos['published_at'])\n",
    "\n",
    "# convert tags from string representation of list to actual list\n",
    "trending_videos['tags'] = trending_videos['tags'].apply(lambda x: eval(x) if isinstance(x, str) else x)"
   ]
  },
  {
   "cell_type": "code",
   "execution_count": null,
   "id": "c2497805-d2e3-445c-bcc4-2080aae5ee11",
   "metadata": {},
   "outputs": [],
   "source": [
    "# descriptive statistics\n",
    "descriptive_stats = trending_videos[['view_count', 'like_count', 'dislike_count', 'comment_count']].describe()\n",
    "\n",
    "descriptive_stats"
   ]
  },
  {
   "cell_type": "code",
   "execution_count": null,
   "id": "668a76a6-2f9a-49b5-a907-a6d24babcfb1",
   "metadata": {},
   "outputs": [],
   "source": [
    "import matplotlib.pyplot as plt\n",
    "import seaborn as sns\n",
    "sns.set(style=\"whitegrid\")\n",
    "\n",
    "fig, axes = plt.subplots(1, 3, figsize=(18, 5))\n",
    "\n",
    "# view count distribution\n",
    "sns.histplot(trending_videos['view_count'], bins=30, kde=True, ax=axes[0], color='blue')\n",
    "axes[0].set_title('View Count Distribution')\n",
    "axes[0].set_xlabel('View Count')\n",
    "axes[0].set_ylabel('Frequency')\n",
    "\n",
    "# like count distribution\n",
    "sns.histplot(trending_videos['like_count'], bins=30, kde=True, ax=axes[1], color='green')\n",
    "axes[1].set_title('Like Count Distribution')\n",
    "axes[1].set_xlabel('Like Count')\n",
    "axes[1].set_ylabel('Frequency')\n",
    "\n",
    "# comment count distribution\n",
    "sns.histplot(trending_videos['comment_count'], bins=30, kde=True, ax=axes[2], color='red')\n",
    "axes[2].set_title('Comment Count Distribution')\n",
    "axes[2].set_xlabel('Comment Count')\n",
    "axes[2].set_ylabel('Frequency')\n",
    "plt.tight_layout()\n",
    "plt.show()"
   ]
  },
  {
   "cell_type": "code",
   "execution_count": null,
   "id": "eea7cfdf-3183-4eb8-a27c-9b060fa407e1",
   "metadata": {},
   "outputs": [],
   "source": [
    "# correlation matrix\n",
    "correlation_matrix = trending_videos[['view_count', 'like_count', 'comment_count']].corr()\n",
    "\n",
    "plt.figure(figsize=(8, 6))\n",
    "sns.heatmap(correlation_matrix, annot=True, cmap='coolwarm', linewidths=0.5, linecolor='black')\n",
    "plt.title('Correlation Matrix of Engagement Metrics')\n",
    "plt.show()"
   ]
  },
  {
   "cell_type": "code",
   "execution_count": null,
   "id": "efb96384-9f2a-49e1-8ff3-bb52b48d83d8",
   "metadata": {},
   "outputs": [],
   "source": [
    "trending_videos['category_name'] = trending_videos['category_id'].map(category_mapping)\n",
    "\n",
    "# Bar chart for category counts\n",
    "plt.figure(figsize=(12, 8))\n",
    "sns.countplot(y=trending_videos['category_name'], order=trending_videos['category_name'].value_counts().index, palette='viridis')\n",
    "plt.title('Number of Trending Videos by Category')\n",
    "plt.xlabel('Number of Videos')\n",
    "plt.ylabel('Category')\n",
    "plt.show()"
   ]
  },
  {
   "cell_type": "code",
   "execution_count": null,
   "id": "2af7df70-07fa-46bc-b52d-37091f94bbef",
   "metadata": {},
   "outputs": [],
   "source": [
    "# average engagement metrics by category\n",
    "category_engagement = trending_videos.groupby('category_name')[['view_count', 'like_count', 'comment_count']].mean().sort_values(by='view_count', ascending=False)\n",
    "\n",
    "fig, axes = plt.subplots(1, 3, figsize=(18, 10))\n",
    "\n",
    "# view count by category\n",
    "sns.barplot(y=category_engagement.index, x=category_engagement['view_count'], ax=axes[0], palette='viridis')\n",
    "axes[0].set_title('Average View Count by Category')\n",
    "axes[0].set_xlabel('Average View Count')\n",
    "axes[0].set_ylabel('Category')\n",
    "\n",
    "# like count by category\n",
    "sns.barplot(y=category_engagement.index, x=category_engagement['like_count'], ax=axes[1], palette='viridis')\n",
    "axes[1].set_title('Average Like Count by Category')\n",
    "axes[1].set_xlabel('Average Like Count')\n",
    "axes[1].set_ylabel('')\n",
    "\n",
    "# comment count by category\n",
    "sns.barplot(y=category_engagement.index, x=category_engagement['comment_count'], ax=axes[2], palette='viridis')\n",
    "axes[2].set_title('Average Comment Count by Category')\n",
    "axes[2].set_xlabel('Average Comment Count')\n",
    "axes[2].set_ylabel('')\n",
    "\n",
    "plt.tight_layout()\n",
    "plt.show()"
   ]
  }
 ],
 "metadata": {
  "kernelspec": {
   "display_name": "Python 3 (ipykernel)",
   "language": "python",
   "name": "python3"
  },
  "language_info": {
   "codemirror_mode": {
    "name": "ipython",
    "version": 3
   },
   "file_extension": ".py",
   "mimetype": "text/x-python",
   "name": "python",
   "nbconvert_exporter": "python",
   "pygments_lexer": "ipython3",
   "version": "3.10.0"
  }
 },
 "nbformat": 4,
 "nbformat_minor": 5
}
